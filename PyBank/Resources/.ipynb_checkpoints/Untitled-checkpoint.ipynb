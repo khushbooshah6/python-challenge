{
 "cells": [
  {
   "cell_type": "code",
   "execution_count": 39,
   "metadata": {},
   "outputs": [],
   "source": [
    "import os\n",
    "import csv\n",
    "filepath = os.path.join('.','','budget_data.csv')"
   ]
  },
  {
   "cell_type": "code",
   "execution_count": 46,
   "metadata": {},
   "outputs": [
    {
     "name": "stdout",
     "output_type": "stream",
     "text": [
      "./budget_data.csv\n"
     ]
    }
   ],
   "source": [
    "print(filepath)"
   ]
  },
  {
   "cell_type": "code",
   "execution_count": 73,
   "metadata": {},
   "outputs": [
    {
     "name": "stdout",
     "output_type": "stream",
     "text": [
      "Total No of Months: 86\n",
      "The net total amount of Profit/Losses: 38382578\n"
     ]
    }
   ],
   "source": [
    "monthList=[]\n",
    "profitList=[]\n",
    "profitChange=[]\n",
    "with open (filepath, newline='') as fileopen:\n",
    "    freader = csv.reader(fileopen, delimiter=',')\n",
    "    next(freader)\n",
    "    for row in freader :\n",
    "        monthList.append(row[0])\n",
    "        profitList.append(int(row[1]))\n",
    "print(\"Total No of Months: \" + str(len(monthList)))\n",
    "print(\"The net total amount of Profit/Losses: \" + str(sum(profitList)))"
   ]
  },
  {
   "cell_type": "code",
   "execution_count": 74,
   "metadata": {},
   "outputs": [],
   "source": [
    "import statistics"
   ]
  },
  {
   "cell_type": "code",
   "execution_count": 75,
   "metadata": {},
   "outputs": [],
   "source": [
    "for i in range (len(profitList)-1):\n",
    "    profitChange.append(profitList[i+1]-profitList[i])"
   ]
  },
  {
   "cell_type": "code",
   "execution_count": 78,
   "metadata": {},
   "outputs": [],
   "source": [
    "import statistics"
   ]
  },
  {
   "cell_type": "code",
   "execution_count": 79,
   "metadata": {},
   "outputs": [],
   "source": [
    "from statistics import mean"
   ]
  },
  {
   "cell_type": "code",
   "execution_count": 84,
   "metadata": {},
   "outputs": [
    {
     "name": "stdout",
     "output_type": "stream",
     "text": [
      "-2315.1176470588234\n"
     ]
    }
   ],
   "source": [
    "avg = mean(profitChange)\n",
    "print(avg)"
   ]
  },
  {
   "cell_type": "code",
   "execution_count": 93,
   "metadata": {
    "scrolled": true
   },
   "outputs": [
    {
     "name": "stdout",
     "output_type": "stream",
     "text": [
      "Greatest Increase (in Profits): Feb-2012 ($1926159)\n",
      "Greatest Decrease (in Profits): Sep-2013 ($-2196167)\n"
     ]
    }
   ],
   "source": [
    "maxvalueIncrease = max(profitChange)\n",
    "maxvalueDecrease = min(profitChange)\n",
    "maxvalueIncreaseMonth = profitChange.index(max(profitChange))+1\n",
    "maxvalueDecreaseMonth = profitChange.index(min(profitChange))+1\n",
    "print(f\"Greatest Increase (in Profits): {monthList[maxvalueIncreaseMonth]} (${(str(maxvalueIncrease))})\")\n",
    "print(f\"Greatest Decrease (in Profits): {monthList[maxvalueDecreaseMonth]} (${(str(maxvalueDecrease))})\")"
   ]
  },
  {
   "cell_type": "markdown",
   "metadata": {},
   "source": []
  },
  {
   "cell_type": "code",
   "execution_count": null,
   "metadata": {},
   "outputs": [],
   "source": []
  }
 ],
 "metadata": {
  "kernelspec": {
   "display_name": "Python 3",
   "language": "python",
   "name": "python3"
  },
  "language_info": {
   "codemirror_mode": {
    "name": "ipython",
    "version": 3
   },
   "file_extension": ".py",
   "mimetype": "text/x-python",
   "name": "python",
   "nbconvert_exporter": "python",
   "pygments_lexer": "ipython3",
   "version": "3.7.4"
  }
 },
 "nbformat": 4,
 "nbformat_minor": 2
}
